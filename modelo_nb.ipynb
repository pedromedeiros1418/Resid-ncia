{
  "nbformat": 4,
  "nbformat_minor": 0,
  "metadata": {
    "colab": {
      "name": "modelo-nb.ipynb",
      "provenance": [],
      "collapsed_sections": [],
      "authorship_tag": "ABX9TyO/tq702hLMJ2hMbetfP+B+",
      "include_colab_link": true
    },
    "kernelspec": {
      "name": "python3",
      "display_name": "Python 3"
    },
    "language_info": {
      "name": "python"
    }
  },
  "cells": [
    {
      "cell_type": "markdown",
      "metadata": {
        "id": "view-in-github",
        "colab_type": "text"
      },
      "source": [
        "<a href=\"https://colab.research.google.com/github/pedromedeiros1418/Resid-ncia/blob/main/modelo_nb.ipynb\" target=\"_parent\"><img src=\"https://colab.research.google.com/assets/colab-badge.svg\" alt=\"Open In Colab\"/></a>"
      ]
    },
    {
      "cell_type": "code",
      "execution_count": null,
      "metadata": {
        "id": "Grr-PmJgEwYA"
      },
      "outputs": [],
      "source": [
        "# Bibliotecas de manipulação e visualização de dados\n",
        "import numpy as np\n",
        "import pandas as pd\n",
        "from scipy.io import arff\n",
        "import matplotlib.pyplot as plt\n",
        "\n",
        "# Classes do modelo\n",
        "#from sklearn.neighbors import KNeighborsClassifier\n",
        "#from sklearn.tree import DecisionTreeClassifier  \n",
        "from sklearn.naive_bayes import GaussianNB, BernoulliNB, MultinomialNB\n",
        "\n",
        "# Funções de avaliação dos modelos\n",
        "from sklearn import metrics\n",
        "from sklearn.metrics import classification_report, accuracy_score, make_scorer, roc_auc_score, confusion_matrix\n",
        "from sklearn.model_selection import cross_val_score, GridSearchCV, KFold\n",
        "\n",
        "#Load the data using \"arff.loadarff\" then convert it to dataframe\n",
        "data = arff.loadarff('dataset_30_page-blocks.arff')"
      ]
    },
    {
      "cell_type": "code",
      "source": [
        "df = pd.DataFrame(data[0])\n",
        "df.info()"
      ],
      "metadata": {
        "id": "meXK4LTcE3f3"
      },
      "execution_count": null,
      "outputs": []
    },
    {
      "cell_type": "code",
      "source": [
        "#tratamento de dados da coluna class - object para int\n",
        "df['class'] = df['class'].astype(int)\n",
        "\n",
        "#entradas\n",
        "X = df.iloc[:,:-1].values\n",
        "#rotulos\n",
        "y = df.iloc[:,10].values"
      ],
      "metadata": {
        "id": "ToT-zhmXE6rk"
      },
      "execution_count": null,
      "outputs": []
    },
    {
      "cell_type": "code",
      "source": [
        "model = GaussianNB()\n",
        "\n",
        "#a variavel var_smoothing adiciona artificialmente um valor à variação da distribuição\n",
        "#suaviza a curva e representa mais amostrar que estão mais distantes da média\n",
        "#de distribuição\n",
        "\n",
        "parametros = {'var_smoothing': np.logspace(0,-9, num=100)}"
      ],
      "metadata": {
        "id": "X1PDmpyPFHyV"
      },
      "execution_count": null,
      "outputs": []
    },
    {
      "cell_type": "code",
      "source": [
        "# Random Trails\n",
        "# Ter o mesmo resultado independentemente de quantas vezes seja executado\n",
        "NUM_TRIALS = 5\n",
        "\n",
        "for i in range(NUM_TRIALS):\n",
        "\n",
        "  #Variáveis para relatório de classificação\n",
        "  cls_original = []\n",
        "  cls_predita = []\n",
        "\n",
        "  #utilizado para dividir reparticionar o dataset para o GridSearchCV\n",
        "  inner_cv = KFold(n_splits=10, shuffle=True, random_state=i) \n",
        "\n",
        "  #utilizado para reparticionar o X_train para avaliação do cross-validate\n",
        "  outer_cv = KFold(n_splits=10, shuffle=True, random_state=i)\n",
        "\n",
        "  #customização do relatório utilizando acurácia\n",
        "  def classification_report_with_accuracy_score(y_true, y_pred):\n",
        "    cls_original.extend(y_true)\n",
        "    cls_predita.extend(y_pred)\n",
        "    return accuracy_score(y_true, y_pred) # return accuracy score\n",
        "\n",
        "  #GridSearchCV para encontrar os melhores parâmetros para o modelo\n",
        "  clf = GridSearchCV(model, param_grid=parametros, cv=inner_cv)\n",
        "  clf.fit(X,y)\n",
        "\n",
        "  print(clf.best_params_)\n",
        "\n",
        "  #Cross-validation aninhado com gridSearch - utiliza o melhor parâmetro para avaliar \n",
        "  #Reparticionando em 10-fold\n",
        "  scores = cross_val_score(clf, X, y, cv=outer_cv, scoring=make_scorer(classification_report_with_accuracy_score))\n",
        "\n",
        "#Valores médios no relatório de classificação para todas as folds em uma validação cruzada 10-fold\n",
        "print(classification_report(cls_original, cls_predita, digits=4))"
      ],
      "metadata": {
        "id": "hSf53LdwFI9i"
      },
      "execution_count": null,
      "outputs": []
    },
    {
      "cell_type": "code",
      "source": [
        "print(confusion_matrix(cls_original, cls_predita))"
      ],
      "metadata": {
        "id": "K7XAk7qIFKTq"
      },
      "execution_count": null,
      "outputs": []
    },
    {
      "cell_type": "code",
      "source": [
        "roc_auc_score(y, clf.predict_proba(X), multi_class='ovr')"
      ],
      "metadata": {
        "id": "iDKxJO3dFLp6"
      },
      "execution_count": null,
      "outputs": []
    }
  ]
}