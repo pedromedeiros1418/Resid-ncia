{
  "nbformat": 4,
  "nbformat_minor": 0,
  "metadata": {
    "colab": {
      "name": "modelo-svm.ipynb",
      "provenance": [],
      "authorship_tag": "ABX9TyMfjBOgIw4nlo9R/4+RD6GN",
      "include_colab_link": true
    },
    "kernelspec": {
      "name": "python3",
      "display_name": "Python 3"
    },
    "language_info": {
      "name": "python"
    }
  },
  "cells": [
    {
      "cell_type": "markdown",
      "metadata": {
        "id": "view-in-github",
        "colab_type": "text"
      },
      "source": [
        "<a href=\"https://colab.research.google.com/github/pedromedeiros1418/Resid-ncia/blob/main/modelo_svm.ipynb\" target=\"_parent\"><img src=\"https://colab.research.google.com/assets/colab-badge.svg\" alt=\"Open In Colab\"/></a>"
      ]
    },
    {
      "cell_type": "code",
      "execution_count": null,
      "metadata": {
        "id": "kKI15Fxt7BOg"
      },
      "outputs": [],
      "source": [
        "import numpy as np\n",
        "import pandas as pd\n",
        "from scipy.io import arff\n",
        "import matplotlib.pyplot as plt\n",
        "\n",
        "# Classes do modelo\n",
        "#from sklearn.neighbors import KNeighborsClassifier\n",
        "#from sklearn.tree import DecisionTreeClassifier  \n",
        "#from sklearn.naive_bayes import GaussianNB, BernoulliNB, MultinomialNB\n",
        "from sklearn.svm import SVC\n",
        "\n",
        "# Funções de avaliação dos modelos\n",
        "from sklearn import metrics\n",
        "from sklearn.metrics import classification_report, accuracy_score, make_scorer, roc_auc_score, confusion_matrix\n",
        "from sklearn.model_selection import cross_val_score, GridSearchCV, KFold\n",
        "\n",
        "#Load the data using \"arff.loadarff\" then convert it to dataframe\n",
        "data = arff.loadarff('dataset_30_page-blocks.arff')"
      ]
    },
    {
      "cell_type": "code",
      "source": [
        "df = pd.DataFrame(data[0])\n",
        "df.info()"
      ],
      "metadata": {
        "colab": {
          "base_uri": "https://localhost:8080/"
        },
        "id": "tnFw_Hnz8Ynh",
        "outputId": "7fffe4b9-81ac-4499-921e-b27594b11760"
      },
      "execution_count": null,
      "outputs": [
        {
          "output_type": "stream",
          "name": "stdout",
          "text": [
            "<class 'pandas.core.frame.DataFrame'>\n",
            "RangeIndex: 5473 entries, 0 to 5472\n",
            "Data columns (total 11 columns):\n",
            " #   Column    Non-Null Count  Dtype  \n",
            "---  ------    --------------  -----  \n",
            " 0   height    5473 non-null   float64\n",
            " 1   lenght    5473 non-null   float64\n",
            " 2   area      5473 non-null   float64\n",
            " 3   eccen     5473 non-null   float64\n",
            " 4   p_black   5473 non-null   float64\n",
            " 5   p_and     5473 non-null   float64\n",
            " 6   mean_tr   5473 non-null   float64\n",
            " 7   blackpix  5473 non-null   float64\n",
            " 8   blackand  5473 non-null   float64\n",
            " 9   wb_trans  5473 non-null   float64\n",
            " 10  class     5473 non-null   object \n",
            "dtypes: float64(10), object(1)\n",
            "memory usage: 470.5+ KB\n"
          ]
        }
      ]
    },
    {
      "cell_type": "code",
      "source": [
        "#tratamento de dados da coluna class - object para int\n",
        "df['class'] = df['class'].astype(int)\n",
        "\n",
        "#entradas\n",
        "X = df.iloc[:,:-1].values\n",
        "#rotulos\n",
        "y = df.iloc[:,10].values"
      ],
      "metadata": {
        "id": "v5ZNfTia8ZD5"
      },
      "execution_count": null,
      "outputs": []
    },
    {
      "cell_type": "code",
      "source": [
        "#O modelo SVM não trabalha com probabilidades. Para isto, foi necessário habilitar\n",
        "# a probabilidade do modelo para que consigamos gerar\n",
        "model = SVC(probability=True)\n",
        "\n",
        "parametros = {'C': [0.1, 1, 10, 100, 1000]}\n",
        "\n",
        "#C - responsável por controlar o quão tolerante a erros de classificação será o modelo treinado"
      ],
      "metadata": {
        "id": "4pTx4mN38ZbJ"
      },
      "execution_count": null,
      "outputs": []
    },
    {
      "cell_type": "code",
      "source": [
        "# Random Trails\n",
        "# Ter o mesmo resultado independentemente de quantas vezes seja executado\n",
        "NUM_TRIALS = 5\n",
        "\n",
        "for i in range(NUM_TRIALS):\n",
        "\n",
        "  #Variáveis para relatório de classificação\n",
        "  cls_original = []\n",
        "  cls_predita = []\n",
        "\n",
        "  #utilizado para dividir reparticionar o dataset para o GridSearchCV\n",
        "  inner_cv = KFold(n_splits=10, shuffle=True, random_state=i) \n",
        "\n",
        "  #utilizado para reparticionar o X_train para avaliação do cross-validate\n",
        "  outer_cv = KFold(n_splits=10, shuffle=True, random_state=i)\n",
        "\n",
        "  #customização do relatório utilizando acurácia\n",
        "  def classification_report_with_accuracy_score(y_true, y_pred):\n",
        "    cls_original.extend(y_true)\n",
        "    cls_predita.extend(y_pred)\n",
        "    return accuracy_score(y_true, y_pred) # return accuracy score\n",
        "\n",
        "  #GridSearchCV para encontrar os melhores parâmetros para o modelo\n",
        "  clf = GridSearchCV(model, param_grid=parametros, cv=inner_cv)\n",
        "  clf.fit(X,y)\n",
        "\n",
        "  print(clf.best_params_)\n",
        "\n",
        "  #Cross-validation aninhado com gridSearch - utiliza o melhor parâmetro para avaliar \n",
        "  #Reparticionando em 10-fold\n",
        "  scores = cross_val_score(clf, X, y, cv=outer_cv, scoring=make_scorer(classification_report_with_accuracy_score))\n",
        "\n",
        "#Valores médios no relatório de classificação para todas as folds em uma validação cruzada 10-fold\n",
        "print(classification_report(cls_original, cls_predita, digits=4))"
      ],
      "metadata": {
        "colab": {
          "base_uri": "https://localhost:8080/"
        },
        "id": "uW99ZgGQ8Ztg",
        "outputId": "3e36db30-471d-4e8d-e5a6-5762e2262783"
      },
      "execution_count": null,
      "outputs": [
        {
          "output_type": "stream",
          "name": "stdout",
          "text": [
            "{'C': 1000}\n",
            "{'C': 1000}\n",
            "{'C': 1000}\n",
            "{'C': 1000}\n",
            "{'C': 1000}\n",
            "              precision    recall  f1-score   support\n",
            "\n",
            "           1     0.9471    0.9921    0.9691      4913\n",
            "           2     0.8354    0.6170    0.7098       329\n",
            "           3     0.6000    0.2143    0.3158        28\n",
            "           4     0.9600    0.2727    0.4248        88\n",
            "           5     0.8163    0.3478    0.4878       115\n",
            "\n",
            "    accuracy                         0.9404      5473\n",
            "   macro avg     0.8318    0.4888    0.5814      5473\n",
            "weighted avg     0.9361    0.9404    0.9313      5473\n",
            "\n"
          ]
        }
      ]
    },
    {
      "cell_type": "code",
      "source": [
        "print(confusion_matrix(cls_original, cls_predita))"
      ],
      "metadata": {
        "id": "IGD9rPAU8aBq"
      },
      "execution_count": null,
      "outputs": []
    },
    {
      "cell_type": "code",
      "source": [
        "roc_auc_score(y, clf.predict_proba(X), multi_class=\"ovr\")"
      ],
      "metadata": {
        "id": "DD3fEXeL8f4Q"
      },
      "execution_count": null,
      "outputs": []
    }
  ]
}